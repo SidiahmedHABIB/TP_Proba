{
 "cells": [
  {
   "cell_type": "markdown",
   "metadata": {},
   "source": [
    "# Simulation du jeux de LIDO simplifié"
   ]
  },
  {
   "cell_type": "markdown",
   "metadata": {},
   "source": [
    "## Principe\n",
    "On considére un jeux de Lido simple:\n",
    "on dispose d'un un seul pion.\n",
    "\n",
    "- Etape 0 :\n",
    "Le pion doit sort de sa prison lorsqu'on obtient un 6.\n",
    "\n",
    "- Etape 1 :\n",
    "Le pion doit atteindre exactement une position cible situé à N pas de distance de sa prison \n",
    "\n",
    "Soit $X_n$ la variable aléatoire qui represente le nombre de coup nécéssaire pour atteindre la positions cible.\n",
    "\n",
    "**Objectif 1** : Simuler le jeux \n",
    "\n",
    "**Objectif 2** : Calculer une estimation de l'éspérance mathématique de $X_n$ en utilisant `python`\n",
    "\n",
    "**Objéctif 3** : Observer la variation de $\\mathbb{E}(X_n)$ en fonction de $n$\n",
    "\n",
    "<img src=\"LIDO.png\">\n"
   ]
  },
  {
   "cell_type": "code",
   "execution_count": 257,
   "metadata": {},
   "outputs": [],
   "source": [
    "import numpy as np"
   ]
  },
  {
   "cell_type": "markdown",
   "metadata": {},
   "source": [
    "### Simulation du lancé de dé"
   ]
  },
  {
   "cell_type": "code",
   "execution_count": 261,
   "metadata": {},
   "outputs": [],
   "source": [
    "def Roll():\n",
    "    return int(np.random.choice(range(1,20),1))"
   ]
  },
  {
   "cell_type": "code",
   "execution_count": 262,
   "metadata": {},
   "outputs": [
    {
     "data": {
      "text/plain": [
       "15"
      ]
     },
     "execution_count": 262,
     "metadata": {},
     "output_type": "execute_result"
    }
   ],
   "source": [
    "Roll()\n"
   ]
  },
  {
   "cell_type": "markdown",
   "metadata": {},
   "source": [
    "### Compléter le code et commenter"
   ]
  },
  {
   "cell_type": "code",
   "execution_count": 263,
   "metadata": {},
   "outputs": [
    {
     "name": "stdout",
     "output_type": "stream",
     "text": [
      "temp => 9  NA => 1\n",
      "temp => 17  NA => 2\n",
      "temp => 16  NA => 3\n",
      "temp => 10  NA => 4\n",
      "temp => 7  NA => 5\n",
      "temp => 6  NA => 6\n",
      "6\n",
      "temp => 4  NA => 7  A => 5\n",
      "temp => 4  NA => 9  A => 9\n"
     ]
    }
   ],
   "source": [
    "A=0\n",
    "NA=0\n",
    "S=10\n",
    "temp = Roll()\n",
    "#NA=1\n",
    "#np.random.seed(10)\n",
    "while temp != 6:\n",
    "    NA=NA+1\n",
    "    temp = Roll()\n",
    "    print(\"temp =>\",temp,\" NA =>\",NA)\n",
    "   \n",
    "A = 1\n",
    "print(NA)\n",
    "while temp != S:\n",
    "    NA=NA+1\n",
    "    temp = Roll()\n",
    "    if A+temp < S:\n",
    "        A+=temp\n",
    "        print(\"temp =>\",temp,\" NA =>\",NA,\" A =>\",A)\n",
    "    elif A+temp == S:\n",
    "        A=s\n",
    "        print(\"temp =>\",temp,\" NA =>\",NA,\" A =>\",A)\n",
    "\n"
   ]
  },
  {
   "cell_type": "code",
   "execution_count": 225,
   "metadata": {
    "scrolled": false
   },
   "outputs": [],
   "source": [
    "#A=0\n",
    "#NA=0\n",
    "#S=10\n",
    "#c=0\n",
    "#while (A<S) :\n",
    "#    pass"
   ]
  },
  {
   "cell_type": "markdown",
   "metadata": {},
   "source": [
    "### Simulation\n",
    "Ecrire une foction `sim` qui simule le jeux et qui prend comme variable le nombre de pas $n$ nécessazire pour atteindre la cible"
   ]
  },
  {
   "cell_type": "code",
   "execution_count": 264,
   "metadata": {},
   "outputs": [],
   "source": [
    "def sim(s):\n",
    "    A=0\n",
    "    NA=0\n",
    "    c=0\n",
    "    temp = Roll()\n",
    "    #NA=1\n",
    "    #np.random.seed(10)\n",
    "    while temp != 6:\n",
    "        temp = Roll()\n",
    "        NA+=1\n",
    "        #print(\"temp =>\",temp,\" NA =>\",NA)\n",
    "\n",
    "    A = 1\n",
    "    #print(NA)\n",
    "    while A != S:\n",
    "        NA=NA+1\n",
    "        temp = Roll()\n",
    "        if A+temp < S:\n",
    "            #NA=NA+1\n",
    "            A+=temp\n",
    "            #print(\"temp =>\",temp,\" NA =>\",NA,\" A =>\",A)\n",
    "        elif A+temp == S:\n",
    "            A=s\n",
    "            #NA=NA+1\n",
    "            #print(\"temp =>\",temp,\" NA =>\",NA,\" A =>\",A)\n",
    "       \n",
    "    return NA\n",
    "    "
   ]
  },
  {
   "cell_type": "code",
   "execution_count": 265,
   "metadata": {},
   "outputs": [
    {
     "data": {
      "text/plain": [
       "24"
      ]
     },
     "execution_count": 265,
     "metadata": {},
     "output_type": "execute_result"
    }
   ],
   "source": [
    "sim(10)"
   ]
  },
  {
   "cell_type": "markdown",
   "metadata": {},
   "source": [
    "# Simulation de $10^5$  scénario "
   ]
  },
  {
   "cell_type": "code",
   "execution_count": 285,
   "metadata": {},
   "outputs": [],
   "source": [
    "Freq=np.fromiter((sim(10) for i in range(10**2)),dtype=int)"
   ]
  },
  {
   "cell_type": "code",
   "execution_count": 286,
   "metadata": {},
   "outputs": [
    {
     "data": {
      "text/plain": [
       "37.66"
      ]
     },
     "execution_count": 286,
     "metadata": {},
     "output_type": "execute_result"
    }
   ],
   "source": [
    "ESP=Freq.sum()/10**2\n",
    "ESP"
   ]
  },
  {
   "cell_type": "code",
   "execution_count": 287,
   "metadata": {},
   "outputs": [],
   "source": [
    "x=list(range(10,20))"
   ]
  },
  {
   "cell_type": "code",
   "execution_count": null,
   "metadata": {},
   "outputs": [],
   "source": [
    "y=[np.fromiter((sim(u) for i in range(10)),dtype=int).sum()/10 for u in x]"
   ]
  },
  {
   "cell_type": "code",
   "execution_count": 241,
   "metadata": {},
   "outputs": [],
   "source": [
    "import matplotlib.pyplot as plt"
   ]
  },
  {
   "cell_type": "code",
   "execution_count": 245,
   "metadata": {},
   "outputs": [
    {
     "data": {
      "text/plain": [
       "[<matplotlib.lines.Line2D at 0x201dcf45cd0>]"
      ]
     },
     "execution_count": 245,
     "metadata": {},
     "output_type": "execute_result"
    },
    {
     "data": {
      "image/png": "[encoded data removed]",
      "text/plain": [
       "<Figure size 432x288 with 1 Axes>"
      ]
     },
     "metadata": {
      "needs_background": "light"
     },
     "output_type": "display_data"
    }
   ],
   "source": [
    "plt.plot(x,y)\n"
   ]
  },
  {
   "cell_type": "code",
   "execution_count": 188,
   "metadata": {},
   "outputs": [],
   "source": [
    "from scipy import stats\n",
    "import numpy as np\n",
    "slope, intercept, r_value, p_value, std_err = stats.linregress(x,y)"
   ]
  },
  {
   "cell_type": "code",
   "execution_count": 189,
   "metadata": {},
   "outputs": [
    {
     "data": {
      "text/plain": [
       "-0.179624242424243"
      ]
     },
     "execution_count": 189,
     "metadata": {},
     "output_type": "execute_result"
    }
   ],
   "source": [
    "slope"
   ]
  },
  {
   "cell_type": "code",
   "execution_count": 190,
   "metadata": {},
   "outputs": [
    {
     "data": {
      "text/plain": [
       "40.56475151515152"
      ]
     },
     "execution_count": 190,
     "metadata": {},
     "output_type": "execute_result"
    }
   ],
   "source": [
    "intercept\n"
   ]
  },
  {
   "cell_type": "markdown",
   "metadata": {},
   "source": [
    "E(X)= slope * n + intercept"
   ]
  },
  {
   "cell_type": "code",
   "execution_count": 246,
   "metadata": {
    "scrolled": true
   },
   "outputs": [],
   "source": [
    "yy = [(slope* u) + intercept for u in x ]"
   ]
  },
  {
   "cell_type": "code",
   "execution_count": 252,
   "metadata": {},
   "outputs": [
    {
     "data": {
      "text/plain": [
       "[<matplotlib.lines.Line2D at 0x201dd0719a0>,\n",
       " <matplotlib.lines.Line2D at 0x201dd0719d0>]"
      ]
     },
     "execution_count": 252,
     "metadata": {},
     "output_type": "execute_result"
    },
    {
     "data": {
      "image/png": "[encoded data removed]",
      "text/plain": [
       "<Figure size 432x288 with 1 Axes>"
      ]
     },
     "metadata": {
      "needs_background": "light"
     },
     "output_type": "display_data"
    }
   ],
   "source": [
    "plt.plot(x,y,'ob',x,y,'r')"
   ]
  },
  {
   "cell_type": "code",
   "execution_count": null,
   "metadata": {},
   "outputs": [],
   "source": []
  },
  {
   "cell_type": "code",
   "execution_count": null,
   "metadata": {},
   "outputs": [],
   "source": []
  },
  {
   "cell_type": "code",
   "execution_count": null,
   "metadata": {},
   "outputs": [],
   "source": []
  }
 ],
 "metadata": {
  "kernelspec": {
   "display_name": "Python 3",
   "language": "python",
   "name": "python3"
  },
  "language_info": {
   "codemirror_mode": {
    "name": "ipython",
    "version": 3
   },
   "file_extension": ".py",
   "mimetype": "text/x-python",
   "name": "python",
   "nbconvert_exporter": "python",
   "pygments_lexer": "ipython3",
   "version": "3.8.8"
  }
 },
 "nbformat": 4,
 "nbformat_minor": 4
}
