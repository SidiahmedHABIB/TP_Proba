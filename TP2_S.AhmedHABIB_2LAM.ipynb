{
 "cells": [
  {
   "cell_type": "markdown",
   "metadata": {},
   "source": [
    "# Simulation du jeux de LIDO simplifié"
   ]
  },
  {
   "cell_type": "markdown",
   "metadata": {},
   "source": [
    "## Principe\n",
    "On considére un jeux de Lido simple:\n",
    "on dispose d'un un seul pion.\n",
    "\n",
    "- Etape 0 :\n",
    "Le pion doit sort de sa prison lorsqu'on obtient un 6.\n",
    "\n",
    "- Etape 1 :\n",
    "Le pion doit atteindre exactement une position cible situé à N pas de distance de sa prison \n",
    "\n",
    "Soit $X_n$ la variable aléatoire qui represente le nombre de coup nécéssaire pour atteindre la positions cible.\n",
    "\n",
    "**Objectif 1** : Simuler le jeux \n",
    "\n",
    "**Objectif 2** : Calculer une estimation de l'éspérance mathématique de $X_n$ en utilisant `python`\n",
    "\n",
    "**Objéctif 3** : Observer la variation de $\\mathbb{E}(X_n)$ en fonction de $n$\n",
    "\n",
    "<img src=\"LIDO.png\">\n"
   ]
  },
  {
   "cell_type": "code",
   "execution_count": 37,
   "metadata": {},
   "outputs": [],
   "source": [
    "import numpy as np"
   ]
  },
  {
   "cell_type": "markdown",
   "metadata": {},
   "source": [
    "### Simulation du lancé de dé"
   ]
  },
  {
   "cell_type": "code",
   "execution_count": 38,
   "metadata": {},
   "outputs": [],
   "source": [
    "def Roll():\n",
    "    return int(np.random.choice(range(1,7),1))\n"
   ]
  },
  {
   "cell_type": "code",
   "execution_count": 39,
   "metadata": {},
   "outputs": [
    {
     "data": {
      "text/plain": [
       "6"
      ]
     },
     "execution_count": 39,
     "metadata": {},
     "output_type": "execute_result"
    }
   ],
   "source": [
    "Roll()\n"
   ]
  },
  {
   "cell_type": "markdown",
   "metadata": {},
   "source": [
    "### Compléter le code et commenter"
   ]
  },
  {
   "cell_type": "code",
   "execution_count": 40,
   "metadata": {},
   "outputs": [
    {
     "name": "stdout",
     "output_type": "stream",
     "text": [
      "temp => 3  NA => 1\n",
      "temp => 6  NA => 2\n",
      "2\n",
      "temp => 4  NA => 3  A => 5\n",
      "temp => 5  NA => 4  A => 10\n"
     ]
    }
   ],
   "source": [
    "A=0\n",
    "NA=0\n",
    "S=10\n",
    "temp = Roll()\n",
    "#NA=1\n",
    "#np.random.seed(10)\n",
    "while temp != 6:\n",
    "    NA=NA+1\n",
    "    temp = Roll()\n",
    "    print(\"temp =>\",temp,\" NA =>\",NA)\n",
    "   \n",
    "A = 1\n",
    "print(NA)\n",
    "# on utilise la boucle while pour tester à chaque fois \n",
    "#le nombre qu'on avoir aprés le lancement de dé \n",
    "while(A<S):\n",
    "    temp=Roll()\n",
    "    if((temp+A<S)):\n",
    "        NA+=1\n",
    "        A+=temp;\n",
    "        print(\"temp =>\",temp,\" NA =>\",NA,\" A =>\",A)\n",
    "    elif temp+A>S:\n",
    "        NA+=1\n",
    "        print(\"temp =>\",temp,\" NA =>\",NA,\" A =>\",A)\n",
    "    else:\n",
    "        A=S\n",
    "        NA+=1\n",
    "        print(\"temp =>\",temp,\" NA =>\",NA,\" A =>\",A)\n",
    "\n"
   ]
  },
  {
   "cell_type": "code",
   "execution_count": 41,
   "metadata": {
    "scrolled": false
   },
   "outputs": [],
   "source": [
    "#A=0\n",
    "#NA=0\n",
    "#S=10\n",
    "#c=0\n",
    "#while (A<S) :\n",
    "#    pass"
   ]
  },
  {
   "cell_type": "markdown",
   "metadata": {},
   "source": [
    "### Simulation\n",
    "Ecrire une foction `sim` qui simule le jeux et qui prend comme variable le nombre de pas $n$ nécessazire pour atteindre la cible"
   ]
  },
  {
   "cell_type": "code",
   "execution_count": 44,
   "metadata": {},
   "outputs": [],
   "source": [
    "def sim(S):\n",
    "    \n",
    "    A=0\n",
    "    NA=1    \n",
    "    c=Roll()\n",
    "#np.random.seed(2021)\n",
    "    while (c<6) :\n",
    "        NA=NA+1\n",
    "        c=Roll()\n",
    "        #print(c)\n",
    "    A=1\n",
    "    #print(NA)\n",
    "    while A!=S :\n",
    "        c=Roll()\n",
    "        NA+=1\n",
    "        if A+c<S:\n",
    "            A+=c\n",
    "        elif A+c==S:\n",
    "            A=S\n",
    "    return NA\n",
    "        \n",
    "    "
   ]
  },
  {
   "cell_type": "code",
   "execution_count": 45,
   "metadata": {},
   "outputs": [
    {
     "data": {
      "text/plain": [
       "10"
      ]
     },
     "execution_count": 45,
     "metadata": {},
     "output_type": "execute_result"
    }
   ],
   "source": [
    "sim(10)"
   ]
  },
  {
   "cell_type": "markdown",
   "metadata": {},
   "source": [
    "# Simulation de $10^5$  scénario "
   ]
  },
  {
   "cell_type": "code",
   "execution_count": 46,
   "metadata": {},
   "outputs": [],
   "source": [
    "Freq=np.fromiter((sim(20) for i in range(10**4)),dtype=int)\n",
    "\n"
   ]
  },
  {
   "cell_type": "code",
   "execution_count": 47,
   "metadata": {},
   "outputs": [
    {
     "data": {
      "text/plain": [
       "16.1457"
      ]
     },
     "execution_count": 47,
     "metadata": {},
     "output_type": "execute_result"
    }
   ],
   "source": [
    "ESP=Freq.sum()/10**4\n",
    "ESP"
   ]
  },
  {
   "cell_type": "code",
   "execution_count": 48,
   "metadata": {},
   "outputs": [
    {
     "data": {
      "text/plain": [
       "[10, 11, 12, 13, 14, 15, 16, 17, 18, 19]"
      ]
     },
     "execution_count": 48,
     "metadata": {},
     "output_type": "execute_result"
    }
   ],
   "source": [
    "x=list(range(10,20))\n",
    "x"
   ]
  },
  {
   "cell_type": "code",
   "execution_count": 49,
   "metadata": {},
   "outputs": [],
   "source": [
    "y=[np.fromiter((sim(u) for i in range(10**4)),dtype=int).sum()/50000 for u in x]"
   ]
  },
  {
   "cell_type": "code",
   "execution_count": 50,
   "metadata": {},
   "outputs": [],
   "source": [
    "#yy=[ sum(u) /10000 for u in y]"
   ]
  },
  {
   "cell_type": "code",
   "execution_count": 51,
   "metadata": {},
   "outputs": [],
   "source": [
    "import matplotlib.pyplot as plt"
   ]
  },
  {
   "cell_type": "code",
   "execution_count": 52,
   "metadata": {},
   "outputs": [
    {
     "data": {
      "text/plain": [
       "[<matplotlib.lines.Line2D at 0x1e576c55070>]"
      ]
     },
     "execution_count": 52,
     "metadata": {},
     "output_type": "execute_result"
    },
    {
     "data": {
      "image/png": "[encoded data removed]",
      "text/plain": [
       "<Figure size 432x288 with 1 Axes>"
      ]
     },
     "metadata": {
      "needs_background": "light"
     },
     "output_type": "display_data"
    }
   ],
   "source": [
    "plt.plot(x,y)"
   ]
  },
  {
   "cell_type": "code",
   "execution_count": 53,
   "metadata": {},
   "outputs": [],
   "source": [
    "from scipy import stats\n",
    "import numpy as np\n",
    "slope, intercept, r_value, p_value, std_err = stats.linregress(x,y)"
   ]
  },
  {
   "cell_type": "code",
   "execution_count": 54,
   "metadata": {},
   "outputs": [
    {
     "data": {
      "text/plain": [
       "0.05464945454545455"
      ]
     },
     "execution_count": 54,
     "metadata": {},
     "output_type": "execute_result"
    }
   ],
   "source": [
    "slope"
   ]
  },
  {
   "cell_type": "code",
   "execution_count": 55,
   "metadata": {},
   "outputs": [
    {
     "data": {
      "text/plain": [
       "2.1279469090909093"
      ]
     },
     "execution_count": 55,
     "metadata": {},
     "output_type": "execute_result"
    }
   ],
   "source": [
    "intercept\n"
   ]
  },
  {
   "cell_type": "markdown",
   "metadata": {},
   "source": [
    "E(X)= slope * n + intercept"
   ]
  },
  {
   "cell_type": "code",
   "execution_count": 56,
   "metadata": {
    "scrolled": true
   },
   "outputs": [],
   "source": [
    "yy=[slope*u+intercept for u in x]"
   ]
  },
  {
   "cell_type": "code",
   "execution_count": 59,
   "metadata": {},
   "outputs": [
    {
     "data": {
      "text/plain": [
       "[<matplotlib.lines.Line2D at 0x1e5752cb730>,\n",
       " <matplotlib.lines.Line2D at 0x1e5752cb760>]"
      ]
     },
     "execution_count": 59,
     "metadata": {},
     "output_type": "execute_result"
    },
    {
     "data": {
      "image/png": "[encoded data removed]",
      "text/plain": [
       "<Figure size 432x288 with 1 Axes>"
      ]
     },
     "metadata": {
      "needs_background": "light"
     },
     "output_type": "display_data"
    }
   ],
   "source": [
    "plt.plot(x,y,'ob',x,yy,'r')"
   ]
  },
  {
   "cell_type": "markdown",
   "metadata": {},
   "source": [
    "<h1>Conclusion </h1>\n",
    "<hr>\n",
    "<p> <h3>Simuler le jeux</h3>\n",
    "\n",
    "Le principe de fonction sim simule le jeux est de déterminer le nombre de coup nécessaire :\n",
    "\n",
    "On utilise la premiere boucle while  le pion sort de sa prison (A=1) seulement lorsque la valeur du dé est égale a 6\n",
    "\n",
    "On utilise la deuxieme boucle while  pour tester à chaque fois le nombre qu'on avoir aprés le lancement de dé \n",
    "</p>"
   ]
  },
  {
   "cell_type": "markdown",
   "metadata": {},
   "source": [
    "<p><h3>Simulation de $10^4$  scénario</h3>\n",
    "\n",
    "la simulation retourne l'esperance du scenario de $10^4$ et donne le nuage de points de la moyenne dans un intervale (10,20)\n",
    "\n",
    "</p>\n"
   ]
  },
  {
   "cell_type": "code",
   "execution_count": null,
   "metadata": {},
   "outputs": [],
   "source": []
  }
 ],
 "metadata": {
  "kernelspec": {
   "display_name": "Python 3",
   "language": "python",
   "name": "python3"
  },
  "language_info": {
   "codemirror_mode": {
    "name": "ipython",
    "version": 3
   },
   "file_extension": ".py",
   "mimetype": "text/x-python",
   "name": "python",
   "nbconvert_exporter": "python",
   "pygments_lexer": "ipython3",
   "version": "3.8.8"
  }
 },
 "nbformat": 4,
 "nbformat_minor": 4
}
